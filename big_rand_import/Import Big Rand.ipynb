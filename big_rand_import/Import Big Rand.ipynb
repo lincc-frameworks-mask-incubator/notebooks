{
 "cells": [
  {
   "cell_type": "markdown",
   "id": "edf51d4f-e03c-4d8a-94db-27788ce65bc5",
   "metadata": {},
   "source": [
    "## Import \"big random\" files\n",
    "\n",
    "- notebook author: melissa\n",
    "- data author: claudio\n",
    "- special mention: kostya was super helpful for this whole thing.\n",
    "- date: july 18, 2024\n",
    "\n",
    "Each file looks like it's random points generated within the same rectangle on the sky. By including more files, you get a denser sky in the same region. This imports three sets of files to be used for different catalog purposes:\n",
    "\n",
    "* 10 files - a \"galaxy\" catalog\n",
    "* 100 files - a \"random\" catalog\n",
    "* all 501 files - a just very big catalog for stress-testing our approach."
   ]
  },
  {
   "cell_type": "code",
   "execution_count": 1,
   "id": "b460af4b-a665-4a6d-a1c2-8a01836b5ff0",
   "metadata": {},
   "outputs": [
    {
     "name": "stderr",
     "output_type": "stream",
     "text": [
      "/jet/home/delucchi/.conda/envs/hipscatenv/lib/python3.10/site-packages/tqdm/auto.py:21: TqdmWarning: IProgress not found. Please update jupyter and ipywidgets. See https://ipywidgets.readthedocs.io/en/stable/user_install.html\n",
      "  from .autonotebook import tqdm as notebook_tqdm\n"
     ]
    }
   ],
   "source": [
    "from hipscat_import.catalog.arguments import ImportArguments\n",
    "from hipscat_import.pipeline import pipeline_with_client\n",
    "from dask.distributed import Client\n",
    "\n",
    "import hipscat\n",
    "from hipscat.inspection import plot_pixels\n",
    "\n",
    "from pathlib import Path\n",
    "import os"
   ]
  },
  {
   "cell_type": "markdown",
   "id": "03e47371-49aa-4073-9ff4-5dc157f5a123",
   "metadata": {},
   "source": [
    "## CorrgiRandNumpyReader\n",
    "\n",
    "This is an annoying part of working within a jupyter notebook: the `file_reader` argument is pickled, and if you create a custom implementation, you have to import it from a module. So, in this directory, I also have a file `corrgi_reader.py` with the following contents:\n",
    "\n",
    "```\n",
    "import numpy as np\n",
    "import pandas as pd\n",
    "from hipscat_import.catalog.file_readers import InputReader\n",
    "\n",
    "\n",
    "class CorrgiRandNumpyReader(InputReader):\n",
    "    def read(self, input_file, read_columns=None):\n",
    "        data = np.load(input_file)\n",
    "        yield pd.DataFrame(data, columns=[\"ra\", \"dec\", \"z\", \"weight\"])\n",
    "```"
   ]
  },
  {
   "cell_type": "code",
   "execution_count": 2,
   "id": "1c15be53-d734-4e39-9d00-bd34f058b0c1",
   "metadata": {},
   "outputs": [],
   "source": [
    "from corrgi_reader import CorrgiRandNumpyReader"
   ]
  },
  {
   "cell_type": "code",
   "execution_count": 3,
   "id": "b20aadc2-2f3c-43fc-8380-549af93e0a7d",
   "metadata": {},
   "outputs": [
    {
     "data": {
      "text/plain": [
       "501"
      ]
     },
     "execution_count": 3,
     "metadata": {},
     "output_type": "execute_result"
    }
   ],
   "source": [
    "input_files = sorted(Path(\"/ocean/projects/phy210048p/shared/bigrand_corrgi/\").glob(\"big_random_part_*.npy\"))\n",
    "len(input_files)"
   ]
  },
  {
   "cell_type": "markdown",
   "id": "6d49833e-4b44-4f05-82ff-ea4d02d99fdd",
   "metadata": {},
   "source": [
    "On PSC, the local directory for the node is provided in this `$LOCAL` variable. Useful for telling dask where to dump files."
   ]
  },
  {
   "cell_type": "code",
   "execution_count": 4,
   "id": "b1cc156c-9b79-4050-a281-159e29511c2f",
   "metadata": {},
   "outputs": [
    {
     "data": {
      "text/plain": [
       "'/local'"
      ]
     },
     "execution_count": 4,
     "metadata": {},
     "output_type": "execute_result"
    }
   ],
   "source": [
    "local_tmp = os.path.expandvars(\"$LOCAL\")\n",
    "local_tmp"
   ]
  },
  {
   "cell_type": "code",
   "execution_count": 5,
   "id": "e6b73506-c6ba-4d0f-a68d-bf0a00b400a5",
   "metadata": {},
   "outputs": [
    {
     "data": {
      "text/html": [
       "<div>\n",
       "    <div style=\"width: 24px; height: 24px; background-color: #e1e1e1; border: 3px solid #9D9D9D; border-radius: 5px; position: absolute;\"> </div>\n",
       "    <div style=\"margin-left: 48px;\">\n",
       "        <h3 style=\"margin-bottom: 0px;\">Client</h3>\n",
       "        <p style=\"color: #9D9D9D; margin-bottom: 0px;\">Client-7f94a3bd-453a-11ef-81b6-9440c938a3ce</p>\n",
       "        <table style=\"width: 100%; text-align: left;\">\n",
       "\n",
       "        <tr>\n",
       "        \n",
       "            <td style=\"text-align: left;\"><strong>Connection method:</strong> Cluster object</td>\n",
       "            <td style=\"text-align: left;\"><strong>Cluster type:</strong> distributed.LocalCluster</td>\n",
       "        \n",
       "        </tr>\n",
       "\n",
       "        \n",
       "            <tr>\n",
       "                <td style=\"text-align: left;\">\n",
       "                    <strong>Dashboard: </strong> <a href=\"http://127.0.0.1:8787/status\" target=\"_blank\">http://127.0.0.1:8787/status</a>\n",
       "                </td>\n",
       "                <td style=\"text-align: left;\"></td>\n",
       "            </tr>\n",
       "        \n",
       "\n",
       "        </table>\n",
       "\n",
       "        \n",
       "\n",
       "        \n",
       "            <details>\n",
       "            <summary style=\"margin-bottom: 20px;\"><h3 style=\"display: inline;\">Cluster Info</h3></summary>\n",
       "            <div class=\"jp-RenderedHTMLCommon jp-RenderedHTML jp-mod-trusted jp-OutputArea-output\">\n",
       "    <div style=\"width: 24px; height: 24px; background-color: #e1e1e1; border: 3px solid #9D9D9D; border-radius: 5px; position: absolute;\">\n",
       "    </div>\n",
       "    <div style=\"margin-left: 48px;\">\n",
       "        <h3 style=\"margin-bottom: 0px; margin-top: 0px;\">LocalCluster</h3>\n",
       "        <p style=\"color: #9D9D9D; margin-bottom: 0px;\">328bd8a3</p>\n",
       "        <table style=\"width: 100%; text-align: left;\">\n",
       "            <tr>\n",
       "                <td style=\"text-align: left;\">\n",
       "                    <strong>Dashboard:</strong> <a href=\"http://127.0.0.1:8787/status\" target=\"_blank\">http://127.0.0.1:8787/status</a>\n",
       "                </td>\n",
       "                <td style=\"text-align: left;\">\n",
       "                    <strong>Workers:</strong> 4\n",
       "                </td>\n",
       "            </tr>\n",
       "            <tr>\n",
       "                <td style=\"text-align: left;\">\n",
       "                    <strong>Total threads:</strong> 4\n",
       "                </td>\n",
       "                <td style=\"text-align: left;\">\n",
       "                    <strong>Total memory:</strong> 247.07 GiB\n",
       "                </td>\n",
       "            </tr>\n",
       "            \n",
       "            <tr>\n",
       "    <td style=\"text-align: left;\"><strong>Status:</strong> running</td>\n",
       "    <td style=\"text-align: left;\"><strong>Using processes:</strong> True</td>\n",
       "</tr>\n",
       "\n",
       "            \n",
       "        </table>\n",
       "\n",
       "        <details>\n",
       "            <summary style=\"margin-bottom: 20px;\">\n",
       "                <h3 style=\"display: inline;\">Scheduler Info</h3>\n",
       "            </summary>\n",
       "\n",
       "            <div style=\"\">\n",
       "    <div>\n",
       "        <div style=\"width: 24px; height: 24px; background-color: #FFF7E5; border: 3px solid #FF6132; border-radius: 5px; position: absolute;\"> </div>\n",
       "        <div style=\"margin-left: 48px;\">\n",
       "            <h3 style=\"margin-bottom: 0px;\">Scheduler</h3>\n",
       "            <p style=\"color: #9D9D9D; margin-bottom: 0px;\">Scheduler-1c6295c4-0233-4e07-87e8-6d1e1953ac9d</p>\n",
       "            <table style=\"width: 100%; text-align: left;\">\n",
       "                <tr>\n",
       "                    <td style=\"text-align: left;\">\n",
       "                        <strong>Comm:</strong> tcp://127.0.0.1:44167\n",
       "                    </td>\n",
       "                    <td style=\"text-align: left;\">\n",
       "                        <strong>Workers:</strong> 4\n",
       "                    </td>\n",
       "                </tr>\n",
       "                <tr>\n",
       "                    <td style=\"text-align: left;\">\n",
       "                        <strong>Dashboard:</strong> <a href=\"http://127.0.0.1:8787/status\" target=\"_blank\">http://127.0.0.1:8787/status</a>\n",
       "                    </td>\n",
       "                    <td style=\"text-align: left;\">\n",
       "                        <strong>Total threads:</strong> 4\n",
       "                    </td>\n",
       "                </tr>\n",
       "                <tr>\n",
       "                    <td style=\"text-align: left;\">\n",
       "                        <strong>Started:</strong> Just now\n",
       "                    </td>\n",
       "                    <td style=\"text-align: left;\">\n",
       "                        <strong>Total memory:</strong> 247.07 GiB\n",
       "                    </td>\n",
       "                </tr>\n",
       "            </table>\n",
       "        </div>\n",
       "    </div>\n",
       "\n",
       "    <details style=\"margin-left: 48px;\">\n",
       "        <summary style=\"margin-bottom: 20px;\">\n",
       "            <h3 style=\"display: inline;\">Workers</h3>\n",
       "        </summary>\n",
       "\n",
       "        \n",
       "        <div style=\"margin-bottom: 20px;\">\n",
       "            <div style=\"width: 24px; height: 24px; background-color: #DBF5FF; border: 3px solid #4CC9FF; border-radius: 5px; position: absolute;\"> </div>\n",
       "            <div style=\"margin-left: 48px;\">\n",
       "            <details>\n",
       "                <summary>\n",
       "                    <h4 style=\"margin-bottom: 0px; display: inline;\">Worker: 0</h4>\n",
       "                </summary>\n",
       "                <table style=\"width: 100%; text-align: left;\">\n",
       "                    <tr>\n",
       "                        <td style=\"text-align: left;\">\n",
       "                            <strong>Comm: </strong> tcp://127.0.0.1:34967\n",
       "                        </td>\n",
       "                        <td style=\"text-align: left;\">\n",
       "                            <strong>Total threads: </strong> 1\n",
       "                        </td>\n",
       "                    </tr>\n",
       "                    <tr>\n",
       "                        <td style=\"text-align: left;\">\n",
       "                            <strong>Dashboard: </strong> <a href=\"http://127.0.0.1:44951/status\" target=\"_blank\">http://127.0.0.1:44951/status</a>\n",
       "                        </td>\n",
       "                        <td style=\"text-align: left;\">\n",
       "                            <strong>Memory: </strong> 61.77 GiB\n",
       "                        </td>\n",
       "                    </tr>\n",
       "                    <tr>\n",
       "                        <td style=\"text-align: left;\">\n",
       "                            <strong>Nanny: </strong> tcp://127.0.0.1:39961\n",
       "                        </td>\n",
       "                        <td style=\"text-align: left;\"></td>\n",
       "                    </tr>\n",
       "                    <tr>\n",
       "                        <td colspan=\"2\" style=\"text-align: left;\">\n",
       "                            <strong>Local directory: </strong> /local/dask-scratch-space/worker-9avdb5eb\n",
       "                        </td>\n",
       "                    </tr>\n",
       "\n",
       "                    \n",
       "\n",
       "                    \n",
       "\n",
       "                </table>\n",
       "            </details>\n",
       "            </div>\n",
       "        </div>\n",
       "        \n",
       "        <div style=\"margin-bottom: 20px;\">\n",
       "            <div style=\"width: 24px; height: 24px; background-color: #DBF5FF; border: 3px solid #4CC9FF; border-radius: 5px; position: absolute;\"> </div>\n",
       "            <div style=\"margin-left: 48px;\">\n",
       "            <details>\n",
       "                <summary>\n",
       "                    <h4 style=\"margin-bottom: 0px; display: inline;\">Worker: 1</h4>\n",
       "                </summary>\n",
       "                <table style=\"width: 100%; text-align: left;\">\n",
       "                    <tr>\n",
       "                        <td style=\"text-align: left;\">\n",
       "                            <strong>Comm: </strong> tcp://127.0.0.1:35879\n",
       "                        </td>\n",
       "                        <td style=\"text-align: left;\">\n",
       "                            <strong>Total threads: </strong> 1\n",
       "                        </td>\n",
       "                    </tr>\n",
       "                    <tr>\n",
       "                        <td style=\"text-align: left;\">\n",
       "                            <strong>Dashboard: </strong> <a href=\"http://127.0.0.1:41501/status\" target=\"_blank\">http://127.0.0.1:41501/status</a>\n",
       "                        </td>\n",
       "                        <td style=\"text-align: left;\">\n",
       "                            <strong>Memory: </strong> 61.77 GiB\n",
       "                        </td>\n",
       "                    </tr>\n",
       "                    <tr>\n",
       "                        <td style=\"text-align: left;\">\n",
       "                            <strong>Nanny: </strong> tcp://127.0.0.1:32947\n",
       "                        </td>\n",
       "                        <td style=\"text-align: left;\"></td>\n",
       "                    </tr>\n",
       "                    <tr>\n",
       "                        <td colspan=\"2\" style=\"text-align: left;\">\n",
       "                            <strong>Local directory: </strong> /local/dask-scratch-space/worker-2x1cpkdu\n",
       "                        </td>\n",
       "                    </tr>\n",
       "\n",
       "                    \n",
       "\n",
       "                    \n",
       "\n",
       "                </table>\n",
       "            </details>\n",
       "            </div>\n",
       "        </div>\n",
       "        \n",
       "        <div style=\"margin-bottom: 20px;\">\n",
       "            <div style=\"width: 24px; height: 24px; background-color: #DBF5FF; border: 3px solid #4CC9FF; border-radius: 5px; position: absolute;\"> </div>\n",
       "            <div style=\"margin-left: 48px;\">\n",
       "            <details>\n",
       "                <summary>\n",
       "                    <h4 style=\"margin-bottom: 0px; display: inline;\">Worker: 2</h4>\n",
       "                </summary>\n",
       "                <table style=\"width: 100%; text-align: left;\">\n",
       "                    <tr>\n",
       "                        <td style=\"text-align: left;\">\n",
       "                            <strong>Comm: </strong> tcp://127.0.0.1:38787\n",
       "                        </td>\n",
       "                        <td style=\"text-align: left;\">\n",
       "                            <strong>Total threads: </strong> 1\n",
       "                        </td>\n",
       "                    </tr>\n",
       "                    <tr>\n",
       "                        <td style=\"text-align: left;\">\n",
       "                            <strong>Dashboard: </strong> <a href=\"http://127.0.0.1:46627/status\" target=\"_blank\">http://127.0.0.1:46627/status</a>\n",
       "                        </td>\n",
       "                        <td style=\"text-align: left;\">\n",
       "                            <strong>Memory: </strong> 61.77 GiB\n",
       "                        </td>\n",
       "                    </tr>\n",
       "                    <tr>\n",
       "                        <td style=\"text-align: left;\">\n",
       "                            <strong>Nanny: </strong> tcp://127.0.0.1:42785\n",
       "                        </td>\n",
       "                        <td style=\"text-align: left;\"></td>\n",
       "                    </tr>\n",
       "                    <tr>\n",
       "                        <td colspan=\"2\" style=\"text-align: left;\">\n",
       "                            <strong>Local directory: </strong> /local/dask-scratch-space/worker-w61z_q72\n",
       "                        </td>\n",
       "                    </tr>\n",
       "\n",
       "                    \n",
       "\n",
       "                    \n",
       "\n",
       "                </table>\n",
       "            </details>\n",
       "            </div>\n",
       "        </div>\n",
       "        \n",
       "        <div style=\"margin-bottom: 20px;\">\n",
       "            <div style=\"width: 24px; height: 24px; background-color: #DBF5FF; border: 3px solid #4CC9FF; border-radius: 5px; position: absolute;\"> </div>\n",
       "            <div style=\"margin-left: 48px;\">\n",
       "            <details>\n",
       "                <summary>\n",
       "                    <h4 style=\"margin-bottom: 0px; display: inline;\">Worker: 3</h4>\n",
       "                </summary>\n",
       "                <table style=\"width: 100%; text-align: left;\">\n",
       "                    <tr>\n",
       "                        <td style=\"text-align: left;\">\n",
       "                            <strong>Comm: </strong> tcp://127.0.0.1:37609\n",
       "                        </td>\n",
       "                        <td style=\"text-align: left;\">\n",
       "                            <strong>Total threads: </strong> 1\n",
       "                        </td>\n",
       "                    </tr>\n",
       "                    <tr>\n",
       "                        <td style=\"text-align: left;\">\n",
       "                            <strong>Dashboard: </strong> <a href=\"http://127.0.0.1:44847/status\" target=\"_blank\">http://127.0.0.1:44847/status</a>\n",
       "                        </td>\n",
       "                        <td style=\"text-align: left;\">\n",
       "                            <strong>Memory: </strong> 61.77 GiB\n",
       "                        </td>\n",
       "                    </tr>\n",
       "                    <tr>\n",
       "                        <td style=\"text-align: left;\">\n",
       "                            <strong>Nanny: </strong> tcp://127.0.0.1:44281\n",
       "                        </td>\n",
       "                        <td style=\"text-align: left;\"></td>\n",
       "                    </tr>\n",
       "                    <tr>\n",
       "                        <td colspan=\"2\" style=\"text-align: left;\">\n",
       "                            <strong>Local directory: </strong> /local/dask-scratch-space/worker-dzyo3fd2\n",
       "                        </td>\n",
       "                    </tr>\n",
       "\n",
       "                    \n",
       "\n",
       "                    \n",
       "\n",
       "                </table>\n",
       "            </details>\n",
       "            </div>\n",
       "        </div>\n",
       "        \n",
       "\n",
       "    </details>\n",
       "</div>\n",
       "\n",
       "        </details>\n",
       "    </div>\n",
       "</div>\n",
       "            </details>\n",
       "        \n",
       "\n",
       "    </div>\n",
       "</div>"
      ],
      "text/plain": [
       "<Client: 'tcp://127.0.0.1:44167' processes=4 threads=4, memory=247.07 GiB>"
      ]
     },
     "execution_count": 5,
     "metadata": {},
     "output_type": "execute_result"
    }
   ],
   "source": [
    "client = Client(n_workers=4, threads_per_worker=1, local_directory=local_tmp)\n",
    "client"
   ]
  },
  {
   "cell_type": "code",
   "execution_count": null,
   "id": "cd6ba934-f54c-4344-9d39-2fc90a729fe5",
   "metadata": {},
   "outputs": [],
   "source": [
    "args = ImportArguments(\n",
    "    ra_column=\"ra\",\n",
    "    dec_column=\"dec\",\n",
    "    input_file_list=input_files[:10],\n",
    "    tmp_dir=local_tmp,\n",
    "    file_reader=CorrgiRandNumpyReader(),\n",
    "    output_artifact_name=\"big_rand_10\",\n",
    "    output_path=\"/ocean/projects/phy210048p/shared/corrgi/bigrand/\",\n",
    "    simple_progress_bar=True,\n",
    ")\n",
    "\n",
    "pipeline_with_client(args, client)"
   ]
  },
  {
   "cell_type": "code",
   "execution_count": 6,
   "id": "e627646d-a6f9-475f-b683-1037cee1a28c",
   "metadata": {},
   "outputs": [
    {
     "data": {
      "image/png": "[encoded data removed]",
      "text/plain": [
       "<Figure size 850x540 with 2 Axes>"
      ]
     },
     "metadata": {},
     "output_type": "display_data"
    }
   ],
   "source": [
    "catalog = hipscat.read_from_hipscat(\"/ocean/projects/phy210048p/shared/corrgi/bigrand/big_rand_10\")\n",
    "plot_pixels(catalog)"
   ]
  },
  {
   "cell_type": "code",
   "execution_count": 7,
   "id": "6e43a5ee-5b7c-4434-9973-9551048a2858",
   "metadata": {},
   "outputs": [
    {
     "name": "stderr",
     "output_type": "stream",
     "text": [
      "Planning  : 100%|██████████| 5/5 [00:00<00:00, 2120.26it/s]\n",
      "Mapping   : 100%|██████████| 100/100 [02:39<00:00,  1.60s/it]\n",
      "Binning   : 100%|██████████| 2/2 [00:00<00:00,  2.73it/s]\n",
      "Splitting : 100%|██████████| 100/100 [2:40:23<00:00, 96.23s/it]  \n",
      "Reducing  : 100%|██████████| 5853/5853 [07:02<00:00, 13.86it/s]\n",
      "Finishing : 100%|██████████| 5/5 [00:05<00:00,  1.19s/it]\n"
     ]
    }
   ],
   "source": [
    "args = ImportArguments(\n",
    "    ra_column=\"ra\",\n",
    "    dec_column=\"dec\",\n",
    "    input_file_list=input_files[:100],\n",
    "    tmp_dir=local_tmp,\n",
    "    file_reader=CorrgiRandNumpyReader(),\n",
    "    output_artifact_name=\"big_rand_100\",\n",
    "    output_path=\"/ocean/projects/phy210048p/shared/corrgi/bigrand/\",\n",
    "    simple_progress_bar=True,\n",
    "    completion_email_address=\"delucchi@andrew.cmu.edu\",\n",
    "    resume=False,\n",
    ")\n",
    "\n",
    "pipeline_with_client(args, client)"
   ]
  },
  {
   "cell_type": "code",
   "execution_count": 7,
   "id": "3ae8d7bf-00fb-4c53-ae09-ec5b7de30975",
   "metadata": {},
   "outputs": [
    {
     "data": {
      "image/png": "[encoded data removed]",
      "text/plain": [
       "<Figure size 850x540 with 2 Axes>"
      ]
     },
     "metadata": {},
     "output_type": "display_data"
    }
   ],
   "source": [
    "catalog = hipscat.read_from_hipscat(\"/ocean/projects/phy210048p/shared/corrgi/bigrand/big_rand_100\")\n",
    "plot_pixels(catalog)"
   ]
  },
  {
   "cell_type": "code",
   "execution_count": null,
   "id": "5e4a9111-01d9-4229-8f1b-e75510573959",
   "metadata": {},
   "outputs": [
    {
     "name": "stderr",
     "output_type": "stream",
     "text": [
      "Planning  : 100%|██████████| 5/5 [00:00<00:00, 1653.38it/s]\n",
      "Mapping   : 100%|██████████| 501/501 [12:53<00:00,  1.54s/it]\n",
      "Binning   : 100%|██████████| 2/2 [00:02<00:00,  1.37s/it]\n",
      "Splitting :   1%|          | 3/501 [23:21<43:32:50, 314.80s/it]  "
     ]
    }
   ],
   "source": [
    "args = ImportArguments(\n",
    "    ra_column=\"ra\",\n",
    "    dec_column=\"dec\",\n",
    "    input_file_list=input_files,\n",
    "    tmp_dir=local_tmp,\n",
    "    file_reader=CorrgiRandNumpyReader(),\n",
    "    output_artifact_name=\"big_rand_all\",\n",
    "    output_path=\"/ocean/projects/phy210048p/shared/corrgi/bigrand/\",\n",
    "    simple_progress_bar=True,\n",
    "    completion_email_address=\"delucchi@andrew.cmu.edu\",\n",
    ")\n",
    "\n",
    "pipeline_with_client(args, client)"
   ]
  },
  {
   "cell_type": "code",
   "execution_count": null,
   "id": "c87dae64-743d-4021-a49f-f0289e433f04",
   "metadata": {},
   "outputs": [],
   "source": [
    "catalog = hipscat.read_from_hipscat(\"/ocean/projects/phy210048p/shared/corrgi/bigrand/big_rand_all\")\n",
    "plot_pixels(catalog)"
   ]
  },
  {
   "cell_type": "code",
   "execution_count": null,
   "id": "9d65da87-0656-4fa9-867c-73ba6ca91a34",
   "metadata": {},
   "outputs": [],
   "source": [
    "client.close()"
   ]
  }
 ],
 "metadata": {
  "kernelspec": {
   "display_name": "hipscat_mmd11",
   "language": "python",
   "name": "hipscat_mmd11"
  },
  "language_info": {
   "codemirror_mode": {
    "name": "ipython",
    "version": 3
   },
   "file_extension": ".py",
   "mimetype": "text/x-python",
   "name": "python",
   "nbconvert_exporter": "python",
   "pygments_lexer": "ipython3",
   "version": "3.10.14"
  }
 },
 "nbformat": 4,
 "nbformat_minor": 5
}
