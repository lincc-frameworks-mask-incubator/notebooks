{
 "cells": [
  {
   "cell_type": "markdown",
   "id": "647e397b",
   "metadata": {},
   "source": [
    "This notebook runs the correlation angular counts using corrgi's map-reduce pipeline."
   ]
  },
  {
   "cell_type": "code",
   "execution_count": null,
   "id": "13097f94",
   "metadata": {},
   "outputs": [],
   "source": [
    "# Install the branch with the implementation of the map-reduce pipeline\n",
    "!pip install git+https://github.com/lincc-frameworks-mask-incubator/corrgi.git@sandro/implement-map-reduce"
   ]
  },
  {
   "cell_type": "code",
   "execution_count": null,
   "id": "586282a2-86c2-406d-bd9f-45dc36cc0b7a",
   "metadata": {},
   "outputs": [],
   "source": [
    "# This is where the catalog that was reimported with 50k points per partition lives\n",
    "# We're bound by the Fortran routines, that's why we made the partitions so small.\n",
    "hsc_forced_r = \"/ocean/projects/phy210048p/shared/hipscat/test_catalogs/hsc-pdr3-forced-r-50k\"\n",
    "# This is the directory where my histograms will live\n",
    "output_dir = \"/ocean/projects/phy210048p/scampos/counts\""
   ]
  },
  {
   "cell_type": "markdown",
   "id": "b6db0249",
   "metadata": {},
   "source": [
    "First we define an object with the parameters for the angular correlation (using gundam)."
   ]
  },
  {
   "cell_type": "code",
   "execution_count": null,
   "id": "36beeeaf-3f16-4295-867b-03526f773ed7",
   "metadata": {},
   "outputs": [],
   "source": [
    "import gundam\n",
    "from corrgi.correlation.angular_correlation import AngularCorrelation\n",
    "\n",
    "def acf_params():\n",
    "    params = gundam.packpars(kind=\"acf\")\n",
    "    params.dsept = 0.1\n",
    "    params.nsept = 33\n",
    "    params.septmin = 0.01\n",
    "    return params\n",
    "\n",
    "ang_correlation = AngularCorrelation(params=acf_params())"
   ]
  },
  {
   "cell_type": "markdown",
   "id": "d370dab4",
   "metadata": {},
   "source": [
    "We instantiate a Dask client with 64 workers (on PSC each of them will have 256GiB/64~4GiB available)."
   ]
  },
  {
   "cell_type": "code",
   "execution_count": null,
   "id": "31304e80",
   "metadata": {},
   "outputs": [],
   "source": [
    "from dask.distributed import Client\n",
    "client = Client(n_workers=64)"
   ]
  },
  {
   "cell_type": "markdown",
   "id": "e5f775c3",
   "metadata": {},
   "source": [
    "To compute the DD counts on HSC we instantiate the corrgi arguments and call `run_counting`."
   ]
  },
  {
   "cell_type": "code",
   "execution_count": null,
   "id": "13929590",
   "metadata": {},
   "outputs": [],
   "source": [
    "from corrgi.pipeline.arguments import CorrgiArguments\n",
    "from corrgi.pipeline.run_counting import run_counting\n",
    "\n",
    "args = CorrgiArguments(\n",
    "    left_catalog_path=hsc_forced_r,\n",
    "    right_catalog_path=hsc_forced_r,\n",
    "    correlation=ang_correlation,\n",
    "    output_path=output_dir,\n",
    "    output_artifact_name=\"dd\",\n",
    "    resume=True\n",
    ")"
   ]
  },
  {
   "cell_type": "code",
   "execution_count": null,
   "id": "745449b4-0658-4a3c-8635-7d52756ba836",
   "metadata": {},
   "outputs": [],
   "source": [
    "%%time\n",
    "counts_dd = run_counting(args, client)"
   ]
  },
  {
   "cell_type": "markdown",
   "id": "8607c1dd",
   "metadata": {},
   "source": [
    "Finally, print the DD counts:"
   ]
  },
  {
   "cell_type": "code",
   "execution_count": null,
   "id": "633895a6-ff5f-4f96-8ceb-86b7131d4475",
   "metadata": {},
   "outputs": [],
   "source": [
    "counts_dd"
   ]
  },
  {
   "cell_type": "markdown",
   "id": "883710e6",
   "metadata": {},
   "source": [
    "and shutdown the Dask client:"
   ]
  },
  {
   "cell_type": "code",
   "execution_count": null,
   "id": "8b78af36-128f-499a-8891-21d0337c8d66",
   "metadata": {},
   "outputs": [],
   "source": [
    "client.close()"
   ]
  }
 ],
 "metadata": {
  "kernelspec": {
   "display_name": "corrgi",
   "language": "python",
   "name": "corrgi"
  },
  "language_info": {
   "codemirror_mode": {
    "name": "ipython",
    "version": 3
   },
   "file_extension": ".py",
   "mimetype": "text/x-python",
   "name": "python",
   "nbconvert_exporter": "python",
   "pygments_lexer": "ipython3",
   "version": "3.11.9"
  }
 },
 "nbformat": 4,
 "nbformat_minor": 5
}
